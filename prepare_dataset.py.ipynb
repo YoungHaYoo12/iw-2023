{
 "cells": [
  {
   "cell_type": "markdown",
   "id": "c8e1ef30",
   "metadata": {},
   "source": [
    "# Setup"
   ]
  },
  {
   "cell_type": "code",
   "execution_count": 1,
   "id": "d1773d89",
   "metadata": {},
   "outputs": [],
   "source": [
    "import json\n",
    "from os import path\n",
    "import pandas as pd"
   ]
  },
  {
   "cell_type": "code",
   "execution_count": 4,
   "id": "b89f2319",
   "metadata": {},
   "outputs": [],
   "source": [
    "dataset_dir = \"./yelp_dataset\"\n",
    "business_filepath = path.join(dataset_dir, \"business.json\")\n",
    "review_filepath = path.join(dataset_dir, \"review.json\")\n",
    "restaurants_categories_filepath = path.join(dataset_dir, \"restaurant_categories.json\")"
   ]
  },
  {
   "cell_type": "markdown",
   "id": "ca54b4f2",
   "metadata": {},
   "source": [
    "# Manually Extract Categories"
   ]
  },
  {
   "cell_type": "code",
   "execution_count": 9,
   "id": "1c819936",
   "metadata": {},
   "outputs": [
    {
     "name": "stdout",
     "output_type": "stream",
     "text": [
      "Number of categories: 117\n"
     ]
    }
   ],
   "source": [
    "asian_categories = [\n",
    "    \"Bubble Tea\",\"Izakaya\",\"Vietnamese\",\"Pan Asian\",\"Lebanese\",\"Dumplings\",\"Szechuan\",\n",
    "    \"Shaved Snow\",\"Chinese\",\"Japanese Curry\",\"Japanese\",\"Mongolian\",\"Armenian\",\"Syrian\",\n",
    "    \"Hakka\",\"Kebab\",\"Donburi\",\"Hot Pot\",\"Tonkatsu\",\"Teppanyaki\",\"Pita\",\n",
    "    \"Taiwanese\",\"Oriental\",\"Sushi Bars\",\"Kombucha\",\"Conveyor Belt Sushi\",\"Ramen\",\n",
    "    \"Middle Eastern\",\"Filipino\",\"Pakistani\",\"Thai\",\"Fuzhou\",\"Himalayan/Nepalese\",\"Bangladeshi\",\n",
    "    \"Dim Sum\",\"Singaporean\",\"Uzbek\",\"Korean\",\"Shanghainese\",\"Burmese\",\"Noodles\",\"Israeli\",\n",
    "    \"Indian\",\"Arabic\",\"Asian Fusion\",\"Cambodian\",\"Malaysian\",\"Hainan\",\"Indonesian\",\"Laotian\",\n",
    "    \"Falafel\",\"Cantonese\",\"Hong Kong Style Cafe\",\"Sri Lankan\",\"Turkish\",\"Persian/Iranian\"\n",
    "]\n",
    "\n",
    "american_european_categories = [\n",
    "    \"French\",\"Brasseries\",\"Bistros\",\"Burgers\",\"Macarons\",\"Bagels\",\"Sicilian\",\"Pretzels\",\n",
    "    \"Tapas Bars\",\"British\",\"Pizza\",\"Greek\",\"Serbo Croatian\",\n",
    "    \"Modern European\",\"Gelato\",\"Creperies\",\"Pasta Shops\",\"Irish\",\"Scottish\",\n",
    "    \"German\",\"Ukrainian\",\"Polish\",\"Soul Food\",\"Georgian\",\"Sardinian\",\"Tex-Mex\",\n",
    "    \"Fondue\",\"Cucina campana\",\"Czech\",\"Portuguese\",\"Irish Pub\",\"Cheesesteaks\",\n",
    "    \"Roman\",\"Belgian\",\"Russian\",\"Scandinavian\",\"Fish & Chips\",\"Spanish\",\n",
    "    \"Guamanian\",\"Pancakes\",\"Cupcakes\",\"Patisserie/Cake Shop\",\n",
    "    \"American (Traditional)\",\"Tapas/Small Plates\",\"Donairs\",\"Calabrian\",\"Poutineries\",\n",
    "    \"Waffles\",\"Southern\",\"American (New)\",\"New Mexican Cuisine\",\n",
    "    \"Donuts\",\"Supper Clubs\",\"Iberian\",\"Italian\",\"Kosher\",\"Austrian\",\"Tuscan\",\"Hungarian\",\n",
    "    \"Eastern European\",\"Hot Dogs\"\n",
    "]\n",
    "\n",
    "\n",
    "categories = asian_categories + american_european_categories\n",
    "print(f\"Number of categories: {len(categories)}\")"
   ]
  },
  {
   "cell_type": "markdown",
   "id": "3a010f78",
   "metadata": {},
   "source": [
    "# Filter Businesses and Reviews"
   ]
  },
  {
   "cell_type": "code",
   "execution_count": 10,
   "id": "0ac3086f",
   "metadata": {},
   "outputs": [],
   "source": [
    "def business_satisfies_categories(business):\n",
    "    business_categories = business['categories']\n",
    "    business_categories = business_categories.split(\", \") if business_categories else []\n",
    "    \n",
    "    for category in business_categories:\n",
    "        if category in categories:\n",
    "            return True\n",
    "    return False\n",
    "\n",
    "def get_businesses():\n",
    "    with open(business_filepath, \"r\") as f:\n",
    "        lines = f.readlines()\n",
    "    businesses = []\n",
    "    for line in lines:\n",
    "        business = json.loads(line)\n",
    "        businesses.append(business)\n",
    "    businesses = pd.DataFrame(businesses)\n",
    "    \n",
    "    businesses = businesses[businesses.apply(business_satisfies_categories, axis=1)]\n",
    "    \n",
    "    # add column to differentiate between Asian and American / European cuisine\n",
    "    def cuisine(business):\n",
    "        is_asian = False\n",
    "        is_american_european = False\n",
    "\n",
    "        for category in business['categories'].split(\", \"):\n",
    "            if category in asian_categories:\n",
    "                is_asian = True\n",
    "            if category in american_european_categories:\n",
    "                is_american_european = True\n",
    "\n",
    "        if is_asian and is_american_european:\n",
    "            return \"Both\"\n",
    "        elif is_asian:\n",
    "            return \"Asian\"\n",
    "        else:\n",
    "            return \"American European\"\n",
    "    \n",
    "    businesses['cuisine'] = businesses.apply(cuisine, axis = 1)\n",
    "    \n",
    "    return businesses\n",
    "    \n",
    "businesses = get_businesses()"
   ]
  },
  {
   "cell_type": "code",
   "execution_count": 11,
   "id": "55983501",
   "metadata": {},
   "outputs": [],
   "source": [
    "# get reviews filtered and joined by businesses\n",
    "def get_reviews(businesses):\n",
    "    with open(review_filepath, \"r\") as f:\n",
    "        lines = f.readlines()\n",
    "    reviews = []\n",
    "    for line in lines:\n",
    "        review = json.loads(line)\n",
    "        reviews.append(review)\n",
    "    reviews = pd.DataFrame(reviews)\n",
    "    \n",
    "    return pd.merge(reviews, businesses, on='business_id', how='inner')\n",
    "\n",
    "reviews = get_reviews(businesses)    "
   ]
  },
  {
   "cell_type": "code",
   "execution_count": 8,
   "id": "e1f22850",
   "metadata": {},
   "outputs": [],
   "source": [
    "# save the reviews in csv file\n",
    "reviews.to_csv(\"reviews.csv\", index=False)\n"
   ]
  },
  {
   "cell_type": "code",
   "execution_count": null,
   "id": "5be3304b",
   "metadata": {},
   "outputs": [],
   "source": []
  }
 ],
 "metadata": {
  "kernelspec": {
   "display_name": "Python 3 (ipykernel)",
   "language": "python",
   "name": "python3"
  },
  "language_info": {
   "codemirror_mode": {
    "name": "ipython",
    "version": 3
   },
   "file_extension": ".py",
   "mimetype": "text/x-python",
   "name": "python",
   "nbconvert_exporter": "python",
   "pygments_lexer": "ipython3",
   "version": "3.11.5"
  }
 },
 "nbformat": 4,
 "nbformat_minor": 5
}
